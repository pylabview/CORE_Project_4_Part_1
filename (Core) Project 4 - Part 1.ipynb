{
 "cells": [
  {
   "cell_type": "markdown",
   "id": "92a32054-f9ec-46f2-8ace-340322c2ff8c",
   "metadata": {},
   "source": [
    "# (Core) Project 4 \n",
    "\n",
    "For this Project, I am starting an additional portfolio project that I will continue to build on over\n",
    "## Part 1\n",
    "\n",
    "> For Part 1, I am downloading and preparing a crime dataset for time series analysis. I will then answer provided stakeholder questions and support my answers with visualizations.\n",
    "\n",
    "- Q1: Comparing Police Districts:\n",
    "    - Which district has the most crimes? Which has the least?\n",
    "- Q2: Crimes Across the Years:\n",
    "    - Is the total number of crimes increasing or decreasing across the years?\n",
    "    - Are there any individual crimes that are doing the opposite (e.g decreasing when overall crime is increasing or vice-versa)?"
   ]
  },
  {
   "cell_type": "markdown",
   "id": "512e7ef1-b21b-43a2-b92b-2117c19963e8",
   "metadata": {},
   "source": [
    "### Imports "
   ]
  },
  {
   "cell_type": "code",
   "execution_count": 1,
   "id": "0b4dad6d-bca9-478e-a90f-c1a12fab1e4f",
   "metadata": {},
   "outputs": [],
   "source": [
    "#General\n",
    "import pandas as pd\n",
    "import numpy as np\n",
    "import matplotlib as mpl\n",
    "import matplotlib.pyplot as plt\n",
    "import seaborn as sns\n",
    "import os\n",
    "# Holidays\n",
    "import holidays\n",
    "import datetime as dt\n",
    "from holidays import country_holidays\n",
    "\n",
    "\n",
    "## Run the cell below to attempt to programmatically find your crime file\n",
    "import os,glob\n",
    "## (Optional) SET THE FOLDER FOR FINAL FILES\n",
    "OUTPUT_FOLDER = 'Data/Chicago/'\n",
    "os.makedirs(OUTPUT_FOLDER, exist_ok=True)\n"
   ]
  },
  {
   "cell_type": "markdown",
   "id": "dcba6a9c-17ca-4646-a026-25245a3172a8",
   "metadata": {},
   "source": [
    "### Loading Data form local files"
   ]
  },
  {
   "cell_type": "code",
   "execution_count": 2,
   "id": "34fa87e3-02cb-4fe5-a152-79e47274b77f",
   "metadata": {},
   "outputs": [
    {
     "data": {
      "text/html": [
       "<div>\n",
       "<style scoped>\n",
       "    .dataframe tbody tr th:only-of-type {\n",
       "        vertical-align: middle;\n",
       "    }\n",
       "\n",
       "    .dataframe tbody tr th {\n",
       "        vertical-align: top;\n",
       "    }\n",
       "\n",
       "    .dataframe thead th {\n",
       "        text-align: right;\n",
       "    }\n",
       "</style>\n",
       "<table border=\"1\" class=\"dataframe\">\n",
       "  <thead>\n",
       "    <tr style=\"text-align: right;\">\n",
       "      <th></th>\n",
       "      <th>ID</th>\n",
       "      <th>Date</th>\n",
       "      <th>Primary Type</th>\n",
       "      <th>Description</th>\n",
       "      <th>Location Description</th>\n",
       "      <th>Arrest</th>\n",
       "      <th>Domestic</th>\n",
       "      <th>Beat</th>\n",
       "      <th>District</th>\n",
       "      <th>Ward</th>\n",
       "      <th>Latitude</th>\n",
       "      <th>Longitude</th>\n",
       "    </tr>\n",
       "  </thead>\n",
       "  <tbody>\n",
       "    <tr>\n",
       "      <th>0</th>\n",
       "      <td>1323184</td>\n",
       "      <td>01/01/2001 01:00:00 PM</td>\n",
       "      <td>OTHER OFFENSE</td>\n",
       "      <td>HARASSMENT BY TELEPHONE</td>\n",
       "      <td>RESIDENCE</td>\n",
       "      <td>False</td>\n",
       "      <td>False</td>\n",
       "      <td>2213</td>\n",
       "      <td>22.0</td>\n",
       "      <td>NaN</td>\n",
       "      <td>41.707671</td>\n",
       "      <td>-87.666996</td>\n",
       "    </tr>\n",
       "    <tr>\n",
       "      <th>1</th>\n",
       "      <td>1316324</td>\n",
       "      <td>01/01/2001 01:00:00 PM</td>\n",
       "      <td>THEFT</td>\n",
       "      <td>OVER $500</td>\n",
       "      <td>STREET</td>\n",
       "      <td>False</td>\n",
       "      <td>False</td>\n",
       "      <td>1513</td>\n",
       "      <td>15.0</td>\n",
       "      <td>NaN</td>\n",
       "      <td>41.869008</td>\n",
       "      <td>-87.773947</td>\n",
       "    </tr>\n",
       "    <tr>\n",
       "      <th>2</th>\n",
       "      <td>1311269</td>\n",
       "      <td>01/01/2001 01:00:00 AM</td>\n",
       "      <td>CRIMINAL DAMAGE</td>\n",
       "      <td>TO PROPERTY</td>\n",
       "      <td>RESIDENCE</td>\n",
       "      <td>False</td>\n",
       "      <td>False</td>\n",
       "      <td>421</td>\n",
       "      <td>4.0</td>\n",
       "      <td>NaN</td>\n",
       "      <td>41.756690</td>\n",
       "      <td>-87.561625</td>\n",
       "    </tr>\n",
       "    <tr>\n",
       "      <th>3</th>\n",
       "      <td>1323691</td>\n",
       "      <td>01/01/2001 01:00:00 AM</td>\n",
       "      <td>WEAPONS VIOLATION</td>\n",
       "      <td>UNLAWFUL POSS OF HANDGUN</td>\n",
       "      <td>STREET</td>\n",
       "      <td>False</td>\n",
       "      <td>False</td>\n",
       "      <td>1135</td>\n",
       "      <td>11.0</td>\n",
       "      <td>NaN</td>\n",
       "      <td>41.866694</td>\n",
       "      <td>-87.688513</td>\n",
       "    </tr>\n",
       "  </tbody>\n",
       "</table>\n",
       "</div>"
      ],
      "text/plain": [
       "        ID                    Date       Primary Type  \\\n",
       "0  1323184  01/01/2001 01:00:00 PM      OTHER OFFENSE   \n",
       "1  1316324  01/01/2001 01:00:00 PM              THEFT   \n",
       "2  1311269  01/01/2001 01:00:00 AM    CRIMINAL DAMAGE   \n",
       "3  1323691  01/01/2001 01:00:00 AM  WEAPONS VIOLATION   \n",
       "\n",
       "                Description Location Description  Arrest  Domestic  Beat  \\\n",
       "0   HARASSMENT BY TELEPHONE            RESIDENCE   False     False  2213   \n",
       "1                 OVER $500               STREET   False     False  1513   \n",
       "2               TO PROPERTY            RESIDENCE   False     False   421   \n",
       "3  UNLAWFUL POSS OF HANDGUN               STREET   False     False  1135   \n",
       "\n",
       "   District  Ward   Latitude  Longitude  \n",
       "0      22.0   NaN  41.707671 -87.666996  \n",
       "1      15.0   NaN  41.869008 -87.773947  \n",
       "2       4.0   NaN  41.756690 -87.561625  \n",
       "3      11.0   NaN  41.866694 -87.688513  "
      ]
     },
     "execution_count": 2,
     "metadata": {},
     "output_type": "execute_result"
    }
   ],
   "source": [
    "# get list of files from folder\n",
    "crime_files = sorted(glob.glob(OUTPUT_FOLDER+\"*.csv\"))\n",
    "df = pd.concat([pd.read_csv(f) for f in crime_files])\n",
    "df.head(4)"
   ]
  },
  {
   "cell_type": "code",
   "execution_count": 3,
   "id": "0b5699bd-bc22-4bd3-9491-13662bd1dd4e",
   "metadata": {},
   "outputs": [
    {
     "name": "stdout",
     "output_type": "stream",
     "text": [
      "<class 'pandas.core.frame.DataFrame'>\n",
      "Int64Index: 7767374 entries, 0 to 56465\n",
      "Data columns (total 12 columns):\n",
      " #   Column                Dtype  \n",
      "---  ------                -----  \n",
      " 0   ID                    int64  \n",
      " 1   Date                  object \n",
      " 2   Primary Type          object \n",
      " 3   Description           object \n",
      " 4   Location Description  object \n",
      " 5   Arrest                bool   \n",
      " 6   Domestic              bool   \n",
      " 7   Beat                  int64  \n",
      " 8   District              float64\n",
      " 9   Ward                  float64\n",
      " 10  Latitude              float64\n",
      " 11  Longitude             float64\n",
      "dtypes: bool(2), float64(4), int64(2), object(4)\n",
      "memory usage: 666.7+ MB\n"
     ]
    }
   ],
   "source": [
    "df.info()"
   ]
  },
  {
   "cell_type": "markdown",
   "id": "20bb1f64-1963-4562-9360-000faea86837",
   "metadata": {},
   "source": [
    "### Setting Date Index"
   ]
  },
  {
   "cell_type": "code",
   "execution_count": 4,
   "id": "50df1f48-0a39-4d95-94f2-21138d5c0f3a",
   "metadata": {},
   "outputs": [],
   "source": [
    "#Converting Date to datetime object \n",
    "df['DateTime'] = pd.to_datetime(df['Date'])"
   ]
  },
  {
   "cell_type": "code",
   "execution_count": 5,
   "id": "d2ef2e5a-5457-472d-9a39-bedf3554ccd9",
   "metadata": {},
   "outputs": [],
   "source": [
    "#Setting DateTime Index\n",
    "df = df.set_index('DateTime')"
   ]
  },
  {
   "cell_type": "code",
   "execution_count": 6,
   "id": "9a0bfdb2-91c4-4567-93b6-deb5ba145de0",
   "metadata": {},
   "outputs": [
    {
     "data": {
      "text/plain": [
       "DatetimeIndex(['2001-01-01 13:00:00', '2001-01-01 13:00:00',\n",
       "               '2001-01-01 01:00:00', '2001-01-01 01:00:00',\n",
       "               '2001-01-01 01:00:00', '2001-01-01 13:00:00',\n",
       "               '2001-01-01 13:00:00', '2001-01-01 01:00:00',\n",
       "               '2001-01-01 01:00:00', '2001-01-01 01:00:00',\n",
       "               ...\n",
       "               '2023-03-28 00:42:00', '2023-03-28 12:43:00',\n",
       "               '2023-03-28 00:45:00', '2023-03-28 00:46:00',\n",
       "               '2023-03-28 00:46:00', '2023-03-28 12:51:00',\n",
       "               '2023-03-28 12:55:00', '2023-03-28 12:55:00',\n",
       "               '2023-03-28 12:55:00', '2023-03-28 12:59:00'],\n",
       "              dtype='datetime64[ns]', name='DateTime', length=7767374, freq=None)"
      ]
     },
     "execution_count": 6,
     "metadata": {},
     "output_type": "execute_result"
    }
   ],
   "source": [
    "df.index"
   ]
  },
  {
   "cell_type": "code",
   "execution_count": 7,
   "id": "1789d570-34bd-4c9f-a5b4-6ceb42311ce1",
   "metadata": {},
   "outputs": [],
   "source": [
    "# Renaming feature DateTime to Date for convinience\n",
    "df.rename(columns = {'DateTime':'Date'}, inplace = True)"
   ]
  },
  {
   "cell_type": "markdown",
   "id": "f0ec7a87-2751-4ca2-8f39-574cc723eeac",
   "metadata": {},
   "source": [
    "### Building Datframe with Holidays"
   ]
  },
  {
   "cell_type": "code",
   "execution_count": 8,
   "id": "813cf093-7083-45ec-946f-469adbd5ffbc",
   "metadata": {},
   "outputs": [],
   "source": [
    "# Setting Region Global Variables\n",
    "STATE = 'IL'\n",
    "COUNTRY = 'US'"
   ]
  },
  {
   "cell_type": "code",
   "execution_count": 9,
   "id": "1fed62e2-9732-42fb-ade7-1dda3df5d0e0",
   "metadata": {},
   "outputs": [
    {
     "data": {
      "text/plain": [
       "DatetimeIndex(['2001-01-01 01:00:00', '2001-01-02 01:00:00',\n",
       "               '2001-01-03 01:00:00', '2001-01-04 01:00:00',\n",
       "               '2001-01-05 01:00:00', '2001-01-06 01:00:00',\n",
       "               '2001-01-07 01:00:00', '2001-01-08 01:00:00',\n",
       "               '2001-01-09 01:00:00', '2001-01-10 01:00:00',\n",
       "               ...\n",
       "               '2022-12-22 01:00:00', '2022-12-23 01:00:00',\n",
       "               '2022-12-24 01:00:00', '2022-12-25 01:00:00',\n",
       "               '2022-12-26 01:00:00', '2022-12-27 01:00:00',\n",
       "               '2022-12-28 01:00:00', '2022-12-29 01:00:00',\n",
       "               '2022-12-30 01:00:00', '2022-12-31 01:00:00'],\n",
       "              dtype='datetime64[ns]', length=8035, freq='D')"
      ]
     },
     "execution_count": 9,
     "metadata": {},
     "output_type": "execute_result"
    }
   ],
   "source": [
    "## making a date range that covers full dataset\n",
    "all_days = pd.date_range(df[\"Date\"].min(), df[\"Date\"].max())\n",
    "all_days"
   ]
  },
  {
   "cell_type": "code",
   "execution_count": 10,
   "id": "4d7317b3-7bc9-4200-b0e2-dc71564769ca",
   "metadata": {},
   "outputs": [
    {
     "data": {
      "text/plain": [
       "holidays.country_holidays('US')"
      ]
     },
     "execution_count": 10,
     "metadata": {},
     "output_type": "execute_result"
    }
   ],
   "source": [
    "## Create an instance of the US country holidays.\n",
    "c_holidays = country_holidays('US')\n",
    "c_holidays"
   ]
  },
  {
   "cell_type": "code",
   "execution_count": 11,
   "id": "65af79f5-234e-492f-b390-0ee4cfaea4bb",
   "metadata": {},
   "outputs": [
    {
     "name": "stdout",
     "output_type": "stream",
     "text": [
      "2001-01-01 01:00:00\n"
     ]
    },
    {
     "data": {
      "text/plain": [
       "\"New Year's Day\""
      ]
     },
     "execution_count": 11,
     "metadata": {},
     "output_type": "execute_result"
    }
   ],
   "source": [
    "## Testing first date\n",
    "print(all_days[0])\n",
    "c_holidays.get(all_days[0])"
   ]
  },
  {
   "cell_type": "code",
   "execution_count": 12,
   "id": "8ae1ae18-92a7-4e82-8576-314d54ac8c15",
   "metadata": {},
   "outputs": [
    {
     "data": {
      "text/plain": [
       "holidays.country_holidays('US', subdiv='IL')"
      ]
     },
     "execution_count": 12,
     "metadata": {},
     "output_type": "execute_result"
    }
   ],
   "source": [
    "# For a specific subdivisions (e.g. state or province):\n",
    "r_holidays = country_holidays(COUNTRY, subdiv=STATE)\n",
    "r_holidays"
   ]
  },
  {
   "cell_type": "code",
   "execution_count": 13,
   "id": "09461f76-fc7d-46d3-ba68-d15d38dd3b6f",
   "metadata": {},
   "outputs": [
    {
     "data": {
      "text/html": [
       "<div>\n",
       "<style scoped>\n",
       "    .dataframe tbody tr th:only-of-type {\n",
       "        vertical-align: middle;\n",
       "    }\n",
       "\n",
       "    .dataframe tbody tr th {\n",
       "        vertical-align: top;\n",
       "    }\n",
       "\n",
       "    .dataframe thead th {\n",
       "        text-align: right;\n",
       "    }\n",
       "</style>\n",
       "<table border=\"1\" class=\"dataframe\">\n",
       "  <thead>\n",
       "    <tr style=\"text-align: right;\">\n",
       "      <th></th>\n",
       "      <th>ID</th>\n",
       "      <th>Date</th>\n",
       "      <th>Primary Type</th>\n",
       "      <th>Description</th>\n",
       "      <th>Location Description</th>\n",
       "      <th>Arrest</th>\n",
       "      <th>Domestic</th>\n",
       "      <th>Beat</th>\n",
       "      <th>District</th>\n",
       "      <th>Ward</th>\n",
       "      <th>Latitude</th>\n",
       "      <th>Longitude</th>\n",
       "      <th>US Holiday</th>\n",
       "      <th>IL Holiday</th>\n",
       "    </tr>\n",
       "    <tr>\n",
       "      <th>DateTime</th>\n",
       "      <th></th>\n",
       "      <th></th>\n",
       "      <th></th>\n",
       "      <th></th>\n",
       "      <th></th>\n",
       "      <th></th>\n",
       "      <th></th>\n",
       "      <th></th>\n",
       "      <th></th>\n",
       "      <th></th>\n",
       "      <th></th>\n",
       "      <th></th>\n",
       "      <th></th>\n",
       "      <th></th>\n",
       "    </tr>\n",
       "  </thead>\n",
       "  <tbody>\n",
       "    <tr>\n",
       "      <th>2001-01-01 13:00:00</th>\n",
       "      <td>1323184</td>\n",
       "      <td>01/01/2001 01:00:00 PM</td>\n",
       "      <td>OTHER OFFENSE</td>\n",
       "      <td>HARASSMENT BY TELEPHONE</td>\n",
       "      <td>RESIDENCE</td>\n",
       "      <td>False</td>\n",
       "      <td>False</td>\n",
       "      <td>2213</td>\n",
       "      <td>22.0</td>\n",
       "      <td>NaN</td>\n",
       "      <td>41.707671</td>\n",
       "      <td>-87.666996</td>\n",
       "      <td>New Year's Day</td>\n",
       "      <td>New Year's Day</td>\n",
       "    </tr>\n",
       "    <tr>\n",
       "      <th>2001-01-01 13:00:00</th>\n",
       "      <td>1316324</td>\n",
       "      <td>01/01/2001 01:00:00 PM</td>\n",
       "      <td>THEFT</td>\n",
       "      <td>OVER $500</td>\n",
       "      <td>STREET</td>\n",
       "      <td>False</td>\n",
       "      <td>False</td>\n",
       "      <td>1513</td>\n",
       "      <td>15.0</td>\n",
       "      <td>NaN</td>\n",
       "      <td>41.869008</td>\n",
       "      <td>-87.773947</td>\n",
       "      <td>New Year's Day</td>\n",
       "      <td>New Year's Day</td>\n",
       "    </tr>\n",
       "    <tr>\n",
       "      <th>2001-01-01 01:00:00</th>\n",
       "      <td>1311269</td>\n",
       "      <td>01/01/2001 01:00:00 AM</td>\n",
       "      <td>CRIMINAL DAMAGE</td>\n",
       "      <td>TO PROPERTY</td>\n",
       "      <td>RESIDENCE</td>\n",
       "      <td>False</td>\n",
       "      <td>False</td>\n",
       "      <td>421</td>\n",
       "      <td>4.0</td>\n",
       "      <td>NaN</td>\n",
       "      <td>41.756690</td>\n",
       "      <td>-87.561625</td>\n",
       "      <td>New Year's Day</td>\n",
       "      <td>New Year's Day</td>\n",
       "    </tr>\n",
       "    <tr>\n",
       "      <th>2001-01-01 01:00:00</th>\n",
       "      <td>1323691</td>\n",
       "      <td>01/01/2001 01:00:00 AM</td>\n",
       "      <td>WEAPONS VIOLATION</td>\n",
       "      <td>UNLAWFUL POSS OF HANDGUN</td>\n",
       "      <td>STREET</td>\n",
       "      <td>False</td>\n",
       "      <td>False</td>\n",
       "      <td>1135</td>\n",
       "      <td>11.0</td>\n",
       "      <td>NaN</td>\n",
       "      <td>41.866694</td>\n",
       "      <td>-87.688513</td>\n",
       "      <td>New Year's Day</td>\n",
       "      <td>New Year's Day</td>\n",
       "    </tr>\n",
       "    <tr>\n",
       "      <th>2001-01-01 01:00:00</th>\n",
       "      <td>1422085</td>\n",
       "      <td>01/01/2001 01:00:00 AM</td>\n",
       "      <td>OTHER OFFENSE</td>\n",
       "      <td>TELEPHONE THREAT</td>\n",
       "      <td>RESIDENCE</td>\n",
       "      <td>False</td>\n",
       "      <td>True</td>\n",
       "      <td>1023</td>\n",
       "      <td>10.0</td>\n",
       "      <td>NaN</td>\n",
       "      <td>41.858050</td>\n",
       "      <td>-87.695513</td>\n",
       "      <td>New Year's Day</td>\n",
       "      <td>New Year's Day</td>\n",
       "    </tr>\n",
       "  </tbody>\n",
       "</table>\n",
       "</div>"
      ],
      "text/plain": [
       "                          ID                    Date       Primary Type  \\\n",
       "DateTime                                                                  \n",
       "2001-01-01 13:00:00  1323184  01/01/2001 01:00:00 PM      OTHER OFFENSE   \n",
       "2001-01-01 13:00:00  1316324  01/01/2001 01:00:00 PM              THEFT   \n",
       "2001-01-01 01:00:00  1311269  01/01/2001 01:00:00 AM    CRIMINAL DAMAGE   \n",
       "2001-01-01 01:00:00  1323691  01/01/2001 01:00:00 AM  WEAPONS VIOLATION   \n",
       "2001-01-01 01:00:00  1422085  01/01/2001 01:00:00 AM      OTHER OFFENSE   \n",
       "\n",
       "                                  Description Location Description  Arrest  \\\n",
       "DateTime                                                                     \n",
       "2001-01-01 13:00:00   HARASSMENT BY TELEPHONE            RESIDENCE   False   \n",
       "2001-01-01 13:00:00                 OVER $500               STREET   False   \n",
       "2001-01-01 01:00:00               TO PROPERTY            RESIDENCE   False   \n",
       "2001-01-01 01:00:00  UNLAWFUL POSS OF HANDGUN               STREET   False   \n",
       "2001-01-01 01:00:00          TELEPHONE THREAT            RESIDENCE   False   \n",
       "\n",
       "                     Domestic  Beat  District  Ward   Latitude  Longitude  \\\n",
       "DateTime                                                                    \n",
       "2001-01-01 13:00:00     False  2213      22.0   NaN  41.707671 -87.666996   \n",
       "2001-01-01 13:00:00     False  1513      15.0   NaN  41.869008 -87.773947   \n",
       "2001-01-01 01:00:00     False   421       4.0   NaN  41.756690 -87.561625   \n",
       "2001-01-01 01:00:00     False  1135      11.0   NaN  41.866694 -87.688513   \n",
       "2001-01-01 01:00:00      True  1023      10.0   NaN  41.858050 -87.695513   \n",
       "\n",
       "                         US Holiday      IL Holiday  \n",
       "DateTime                                             \n",
       "2001-01-01 13:00:00  New Year's Day  New Year's Day  \n",
       "2001-01-01 13:00:00  New Year's Day  New Year's Day  \n",
       "2001-01-01 01:00:00  New Year's Day  New Year's Day  \n",
       "2001-01-01 01:00:00  New Year's Day  New Year's Day  \n",
       "2001-01-01 01:00:00  New Year's Day  New Year's Day  "
      ]
     },
     "execution_count": 13,
     "metadata": {},
     "output_type": "execute_result"
    }
   ],
   "source": [
    "## Saving both holiday types as columns\n",
    "df[f\"{COUNTRY} Holiday\"] = [c_holidays.get(day) for day in df['Date']]\n",
    "df[f\"{STATE} Holiday\"] = [r_holidays.get(day) for day in df['Date']]\n",
    "df.head()"
   ]
  },
  {
   "cell_type": "code",
   "execution_count": 14,
   "id": "6b2888c5-da0a-4cdd-bc6d-58230c8f4717",
   "metadata": {},
   "outputs": [
    {
     "data": {
      "text/plain": [
       "False    7537578\n",
       "True      229796\n",
       "Name: Is_Holiday, dtype: int64"
      ]
     },
     "execution_count": 14,
     "metadata": {},
     "output_type": "execute_result"
    }
   ],
   "source": [
    "## Saving a binary is holiday feature\n",
    "df['Is_Holiday'] = df[f\"{COUNTRY} Holiday\"].notna()\n",
    "df['Is_Holiday'].value_counts()\n",
    "\n"
   ]
  },
  {
   "cell_type": "code",
   "execution_count": 15,
   "id": "74f2c298-8d62-485e-bf11-027da2d0b872",
   "metadata": {},
   "outputs": [
    {
     "name": "stdout",
     "output_type": "stream",
     "text": [
      "<class 'pandas.core.frame.DataFrame'>\n",
      "DatetimeIndex: 7767374 entries, 2001-01-01 13:00:00 to 2023-03-28 12:59:00\n",
      "Data columns (total 15 columns):\n",
      " #   Column                Dtype  \n",
      "---  ------                -----  \n",
      " 0   ID                    int64  \n",
      " 1   Date                  object \n",
      " 2   Primary Type          object \n",
      " 3   Description           object \n",
      " 4   Location Description  object \n",
      " 5   Arrest                bool   \n",
      " 6   Domestic              bool   \n",
      " 7   Beat                  int64  \n",
      " 8   District              float64\n",
      " 9   Ward                  float64\n",
      " 10  Latitude              float64\n",
      " 11  Longitude             float64\n",
      " 12  US Holiday            object \n",
      " 13  IL Holiday            object \n",
      " 14  Is_Holiday            bool   \n",
      "dtypes: bool(3), float64(4), int64(2), object(6)\n",
      "memory usage: 792.6+ MB\n"
     ]
    }
   ],
   "source": [
    "df.info()"
   ]
  },
  {
   "cell_type": "code",
   "execution_count": 16,
   "id": "75727a25-8c88-4412-b980-f599b34d9473",
   "metadata": {},
   "outputs": [
    {
     "data": {
      "text/html": [
       "<div>\n",
       "<style scoped>\n",
       "    .dataframe tbody tr th:only-of-type {\n",
       "        vertical-align: middle;\n",
       "    }\n",
       "\n",
       "    .dataframe tbody tr th {\n",
       "        vertical-align: top;\n",
       "    }\n",
       "\n",
       "    .dataframe thead th {\n",
       "        text-align: right;\n",
       "    }\n",
       "</style>\n",
       "<table border=\"1\" class=\"dataframe\">\n",
       "  <thead>\n",
       "    <tr style=\"text-align: right;\">\n",
       "      <th></th>\n",
       "      <th>ID</th>\n",
       "      <th>Date</th>\n",
       "      <th>Primary Type</th>\n",
       "      <th>Description</th>\n",
       "      <th>Location Description</th>\n",
       "      <th>Arrest</th>\n",
       "      <th>Domestic</th>\n",
       "      <th>Beat</th>\n",
       "      <th>District</th>\n",
       "      <th>Ward</th>\n",
       "      <th>Latitude</th>\n",
       "      <th>Longitude</th>\n",
       "      <th>US Holiday</th>\n",
       "      <th>IL Holiday</th>\n",
       "      <th>Is_Holiday</th>\n",
       "    </tr>\n",
       "    <tr>\n",
       "      <th>DateTime</th>\n",
       "      <th></th>\n",
       "      <th></th>\n",
       "      <th></th>\n",
       "      <th></th>\n",
       "      <th></th>\n",
       "      <th></th>\n",
       "      <th></th>\n",
       "      <th></th>\n",
       "      <th></th>\n",
       "      <th></th>\n",
       "      <th></th>\n",
       "      <th></th>\n",
       "      <th></th>\n",
       "      <th></th>\n",
       "      <th></th>\n",
       "    </tr>\n",
       "  </thead>\n",
       "  <tbody>\n",
       "    <tr>\n",
       "      <th>2001-01-01 13:00:00</th>\n",
       "      <td>1323184</td>\n",
       "      <td>01/01/2001 01:00:00 PM</td>\n",
       "      <td>OTHER OFFENSE</td>\n",
       "      <td>HARASSMENT BY TELEPHONE</td>\n",
       "      <td>RESIDENCE</td>\n",
       "      <td>False</td>\n",
       "      <td>False</td>\n",
       "      <td>2213</td>\n",
       "      <td>22.0</td>\n",
       "      <td>NaN</td>\n",
       "      <td>41.707671</td>\n",
       "      <td>-87.666996</td>\n",
       "      <td>New Year's Day</td>\n",
       "      <td>New Year's Day</td>\n",
       "      <td>True</td>\n",
       "    </tr>\n",
       "    <tr>\n",
       "      <th>2001-01-01 13:00:00</th>\n",
       "      <td>1316324</td>\n",
       "      <td>01/01/2001 01:00:00 PM</td>\n",
       "      <td>THEFT</td>\n",
       "      <td>OVER $500</td>\n",
       "      <td>STREET</td>\n",
       "      <td>False</td>\n",
       "      <td>False</td>\n",
       "      <td>1513</td>\n",
       "      <td>15.0</td>\n",
       "      <td>NaN</td>\n",
       "      <td>41.869008</td>\n",
       "      <td>-87.773947</td>\n",
       "      <td>New Year's Day</td>\n",
       "      <td>New Year's Day</td>\n",
       "      <td>True</td>\n",
       "    </tr>\n",
       "    <tr>\n",
       "      <th>2001-01-01 01:00:00</th>\n",
       "      <td>1311269</td>\n",
       "      <td>01/01/2001 01:00:00 AM</td>\n",
       "      <td>CRIMINAL DAMAGE</td>\n",
       "      <td>TO PROPERTY</td>\n",
       "      <td>RESIDENCE</td>\n",
       "      <td>False</td>\n",
       "      <td>False</td>\n",
       "      <td>421</td>\n",
       "      <td>4.0</td>\n",
       "      <td>NaN</td>\n",
       "      <td>41.756690</td>\n",
       "      <td>-87.561625</td>\n",
       "      <td>New Year's Day</td>\n",
       "      <td>New Year's Day</td>\n",
       "      <td>True</td>\n",
       "    </tr>\n",
       "    <tr>\n",
       "      <th>2001-01-01 01:00:00</th>\n",
       "      <td>1323691</td>\n",
       "      <td>01/01/2001 01:00:00 AM</td>\n",
       "      <td>WEAPONS VIOLATION</td>\n",
       "      <td>UNLAWFUL POSS OF HANDGUN</td>\n",
       "      <td>STREET</td>\n",
       "      <td>False</td>\n",
       "      <td>False</td>\n",
       "      <td>1135</td>\n",
       "      <td>11.0</td>\n",
       "      <td>NaN</td>\n",
       "      <td>41.866694</td>\n",
       "      <td>-87.688513</td>\n",
       "      <td>New Year's Day</td>\n",
       "      <td>New Year's Day</td>\n",
       "      <td>True</td>\n",
       "    </tr>\n",
       "    <tr>\n",
       "      <th>2001-01-01 01:00:00</th>\n",
       "      <td>1422085</td>\n",
       "      <td>01/01/2001 01:00:00 AM</td>\n",
       "      <td>OTHER OFFENSE</td>\n",
       "      <td>TELEPHONE THREAT</td>\n",
       "      <td>RESIDENCE</td>\n",
       "      <td>False</td>\n",
       "      <td>True</td>\n",
       "      <td>1023</td>\n",
       "      <td>10.0</td>\n",
       "      <td>NaN</td>\n",
       "      <td>41.858050</td>\n",
       "      <td>-87.695513</td>\n",
       "      <td>New Year's Day</td>\n",
       "      <td>New Year's Day</td>\n",
       "      <td>True</td>\n",
       "    </tr>\n",
       "  </tbody>\n",
       "</table>\n",
       "</div>"
      ],
      "text/plain": [
       "                          ID                    Date       Primary Type  \\\n",
       "DateTime                                                                  \n",
       "2001-01-01 13:00:00  1323184  01/01/2001 01:00:00 PM      OTHER OFFENSE   \n",
       "2001-01-01 13:00:00  1316324  01/01/2001 01:00:00 PM              THEFT   \n",
       "2001-01-01 01:00:00  1311269  01/01/2001 01:00:00 AM    CRIMINAL DAMAGE   \n",
       "2001-01-01 01:00:00  1323691  01/01/2001 01:00:00 AM  WEAPONS VIOLATION   \n",
       "2001-01-01 01:00:00  1422085  01/01/2001 01:00:00 AM      OTHER OFFENSE   \n",
       "\n",
       "                                  Description Location Description  Arrest  \\\n",
       "DateTime                                                                     \n",
       "2001-01-01 13:00:00   HARASSMENT BY TELEPHONE            RESIDENCE   False   \n",
       "2001-01-01 13:00:00                 OVER $500               STREET   False   \n",
       "2001-01-01 01:00:00               TO PROPERTY            RESIDENCE   False   \n",
       "2001-01-01 01:00:00  UNLAWFUL POSS OF HANDGUN               STREET   False   \n",
       "2001-01-01 01:00:00          TELEPHONE THREAT            RESIDENCE   False   \n",
       "\n",
       "                     Domestic  Beat  District  Ward   Latitude  Longitude  \\\n",
       "DateTime                                                                    \n",
       "2001-01-01 13:00:00     False  2213      22.0   NaN  41.707671 -87.666996   \n",
       "2001-01-01 13:00:00     False  1513      15.0   NaN  41.869008 -87.773947   \n",
       "2001-01-01 01:00:00     False   421       4.0   NaN  41.756690 -87.561625   \n",
       "2001-01-01 01:00:00     False  1135      11.0   NaN  41.866694 -87.688513   \n",
       "2001-01-01 01:00:00      True  1023      10.0   NaN  41.858050 -87.695513   \n",
       "\n",
       "                         US Holiday      IL Holiday  Is_Holiday  \n",
       "DateTime                                                         \n",
       "2001-01-01 13:00:00  New Year's Day  New Year's Day        True  \n",
       "2001-01-01 13:00:00  New Year's Day  New Year's Day        True  \n",
       "2001-01-01 01:00:00  New Year's Day  New Year's Day        True  \n",
       "2001-01-01 01:00:00  New Year's Day  New Year's Day        True  \n",
       "2001-01-01 01:00:00  New Year's Day  New Year's Day        True  "
      ]
     },
     "execution_count": 16,
     "metadata": {},
     "output_type": "execute_result"
    }
   ],
   "source": [
    "df.head()"
   ]
  },
  {
   "cell_type": "markdown",
   "id": "886e2b38-8195-4634-a4b1-e1610c3eaa01",
   "metadata": {},
   "source": [
    "> Removing few columns that will not affect the analysis: 'Ward', 'Latitude', 'Longitude', and 'ID'"
   ]
  },
  {
   "cell_type": "code",
   "execution_count": 18,
   "id": "1fa7dd12-531f-4dad-b700-97ff06a5a799",
   "metadata": {},
   "outputs": [],
   "source": [
    "df.drop(['Ward', 'Latitude', 'Longitude', 'ID'], axis=1, inplace=True)"
   ]
  },
  {
   "cell_type": "code",
   "execution_count": 19,
   "id": "4fd67e85-db5e-40dd-b111-68ab9552466a",
   "metadata": {},
   "outputs": [],
   "source": [
    "df.to_csv(\"./Data/ill_crimes_processed.csv.gz\", \n",
    "           index=False, \n",
    "           compression=\"gzip\")"
   ]
  },
  {
   "cell_type": "code",
   "execution_count": null,
   "id": "48ccf410-0f8e-4efd-8e98-2ccaf550f911",
   "metadata": {},
   "outputs": [],
   "source": []
  }
 ],
 "metadata": {
  "kernelspec": {
   "display_name": "Python 3 (ipykernel)",
   "language": "python",
   "name": "python3"
  },
  "language_info": {
   "codemirror_mode": {
    "name": "ipython",
    "version": 3
   },
   "file_extension": ".py",
   "mimetype": "text/x-python",
   "name": "python",
   "nbconvert_exporter": "python",
   "pygments_lexer": "ipython3",
   "version": "3.9.15"
  }
 },
 "nbformat": 4,
 "nbformat_minor": 5
}
